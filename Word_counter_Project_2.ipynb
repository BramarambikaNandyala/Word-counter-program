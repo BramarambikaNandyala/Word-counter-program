{
  "nbformat": 4,
  "nbformat_minor": 0,
  "metadata": {
    "colab": {
      "provenance": [],
      "authorship_tag": "ABX9TyNU/k3q+G6fsoefpp0TvJq4",
      "include_colab_link": true
    },
    "kernelspec": {
      "name": "python3",
      "display_name": "Python 3"
    },
    "language_info": {
      "name": "python"
    }
  },
  "cells": [
    {
      "cell_type": "markdown",
      "metadata": {
        "id": "view-in-github",
        "colab_type": "text"
      },
      "source": [
        "<a href=\"https://colab.research.google.com/github/BramarambikaNandyala/Word-counter-program/blob/master/Word_counter_Project_2.ipynb\" target=\"_parent\"><img src=\"https://colab.research.google.com/assets/colab-badge.svg\" alt=\"Open In Colab\"/></a>"
      ]
    },
    {
      "cell_type": "code",
      "execution_count": null,
      "metadata": {
        "id": "Rqabt8vQScYv"
      },
      "outputs": [],
      "source": [
        "def word_counter(text):\n",
        "    \"\"\"\n",
        "    Count the occurrences of each word in the given text.\n",
        "\n",
        "    Args:\n",
        "    - text (str): The input text to analyze.\n",
        "\n",
        "    Returns:\n",
        "    - dict: A dictionary containing word counts.\n",
        "    - int: Total number of words in the text.\n",
        "    \"\"\"\n",
        "    # Convert text to lowercase\n",
        "    text = text.lower()\n",
        "\n",
        "    # Remove punctuation marks\n",
        "    punctuation_marks = '''!()-[]{};:'\"\\,<>./?@#$%^&*_~'''\n",
        "    for char in punctuation_marks:\n",
        "        text = text.replace(char, \" \")\n",
        "\n",
        "    # Split text into words\n",
        "    words = text.split()\n",
        "\n",
        "    # Count occurrences of each word\n",
        "    word_count = {}\n",
        "    for word in words:\n",
        "        if word in word_count:\n",
        "            word_count[word] += 1\n",
        "        else:\n",
        "            word_count[word] = 1\n",
        "\n",
        "    return word_count, len(words)\n",
        "\n",
        "def main():\n",
        "    print(\"Welcome to the Word Counter program!\")\n",
        "    print(\"Enter some text and I'll count the occurrences of each word.\")\n",
        "\n",
        "    while True:\n",
        "        try:\n",
        "            # Prompt the user for input\n",
        "            text = input(\"\\nEnter some text (or type 'quit' to exit): \")\n",
        "\n",
        "            # Check if the user wants to quit\n",
        "            if text.lower() == 'quit':\n",
        "                print(\"Exiting the program...\")\n",
        "                break\n",
        "\n",
        "            # Call the word_counter function with the user's input\n",
        "            counts, total_words = word_counter(text)\n",
        "\n",
        "            # Print the word counts\n",
        "            print(\"\\nWord counts:\")\n",
        "            for word, count in counts.items():\n",
        "                print(f\"{word}: {count}\")\n",
        "\n",
        "            # Print total words used\n",
        "            print(f\"\\nTotal words used: {total_words}\")\n",
        "        except Exception as e:\n",
        "            print(f\"An error occurred: {e}\")\n",
        "            print(\"Please try again.\")\n",
        "\n",
        "if __name__ == \"__main__\":\n",
        "    main()\n"
      ]
    }
  ]
}